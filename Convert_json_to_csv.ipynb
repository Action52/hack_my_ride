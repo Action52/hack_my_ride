{
 "cells": [
  {
   "cell_type": "code",
   "execution_count": 5,
   "metadata": {},
   "outputs": [],
   "source": [
    "import pandas as pd\n",
    "import json\n",
    "import csv\n",
    "from tqdm import tqdm\n",
    "import os"
   ]
  },
  {
   "cell_type": "code",
   "execution_count": 22,
   "metadata": {},
   "outputs": [],
   "source": [
    "def parse_json_to_csv(input_file, output_file):\n",
    "    csv_line = ['timestamp','lineID','directionID','distancefromPoint','pointID']\n",
    "    c = open(output_file, 'w',newline='')\n",
    "    # create the csv writer\n",
    "    writer = csv.writer(c)\n",
    "    # write csv header\n",
    "    writer.writerow(csv_line)\n",
    "    #Open json file\n",
    "    with open(input_file,'r') as f:\n",
    "        json_file = json.loads(f.read())\n",
    "        #loop through timestamps\n",
    "        i=0\n",
    "        for data in json_file['data']:\n",
    "            time = json_file['data'][i]['time']\n",
    "            #print(time)\n",
    "            #loop through all responses of a timestamp\n",
    "            m=0\n",
    "            for response in json_file['data'][i]['Responses']:\n",
    "                #loop through all lines of a response\n",
    "                j = 0\n",
    "                try:\n",
    "                    for lines in json_file['data'][i]['Responses'][m]['lines']:\n",
    "                        lineId = json_file['data'][i]['Responses'][m]['lines'][j]['lineId']\n",
    "                        #loop throgh all vehicle positions of a line\n",
    "                        k=0 \n",
    "                        for vehicelePosition in json_file['data'][i]['Responses'][m]['lines'][j]['vehiclePositions']:\n",
    "                            directionId = json_file['data'][i]['Responses'][m]['lines'][j]['vehiclePositions'][k]['directionId']\n",
    "                            distanceFromPoint = json_file['data'][i]['Responses'][m]['lines'][j]['vehiclePositions'][k]['distanceFromPoint']\n",
    "                            pointId = json_file['data'][i]['Responses'][m]['lines'][j]['vehiclePositions'][k]['pointId']\n",
    "                            #write to csv file\n",
    "                            csv_line = [time,lineId,directionId,distanceFromPoint,pointId]\n",
    "                            writer.writerow(csv_line)\n",
    "                            k = k+1\n",
    "                        j=j+1\n",
    "                #catch null values\n",
    "                except:\n",
    "                    #write timestamp with null values to csv\n",
    "                    csv_line = [time,'null','null','null','null']\n",
    "                    writer.writerow(csv_line)\n",
    "                    #print(csv_line)\n",
    "                m=m+1\n",
    "            i = i+1\n",
    "    ##print(f\"finished writing file in {output_file}\")\n",
    "    c.close()"
   ]
  },
  {
   "cell_type": "code",
   "execution_count": 23,
   "metadata": {},
   "outputs": [
    {
     "name": "stderr",
     "output_type": "stream",
     "text": [
      "100%|█████████████████████████████████████| 13/13 [02:06<00:00,  9.75s/it]\n"
     ]
    }
   ],
   "source": [
    "data_folder = '/Users/alfredo.leon/Desktop/DataMiningProject/Project Data-20221021/'\n",
    "docs = [data_folder + f'vehiclePosition0{i+1}' for i in range(9)]\n",
    "docs.extend([data_folder + f'vehiclePosition{i+1}' for i in range(9,13)])\n",
    "for doc in tqdm(docs):\n",
    "    parse_json_to_csv(input_file=doc+'.json', output_file=doc+'.csv')"
   ]
  },
  {
   "cell_type": "markdown",
   "metadata": {},
   "source": [
    "### Preprocessing CSVs to make them more readable"
   ]
  },
  {
   "cell_type": "code",
   "execution_count": 46,
   "metadata": {},
   "outputs": [],
   "source": [
    "def preprocess_csv(input_file):\n",
    "    df = pd.read_csv(input_file, index_col=None, dtype=str)\n",
    "    df['time'] = pd.to_datetime(df['timestamp'], unit='ms')\n",
    "    df['year'] = df['time'].dt.year\n",
    "    df['month'] = df['time'].dt.month\n",
    "    df['day'] = df['time'].dt.day\n",
    "    df['hour'] = df['time'].dt.hour\n",
    "    df['minute'] = df['time'].dt.minute\n",
    "    df['second'] = df['time'].dt.second\n",
    "    df.to_csv(input_file, index=False)\n",
    "##preprocess_csv('/Users/alfredo.leon/Desktop/DataMiningProject/Project Data-20221021/csvs/vehiclePosition13.csv')"
   ]
  },
  {
   "cell_type": "code",
   "execution_count": 49,
   "metadata": {},
   "outputs": [
    {
     "name": "stderr",
     "output_type": "stream",
     "text": [
      "100%|█████████████████████████████████████| 13/13 [02:05<00:00,  9.62s/it]\n"
     ]
    }
   ],
   "source": [
    "csvs_folder = '/Users/alfredo.leon/Desktop/DataMiningProject/Project Data-20221021/csvs/'\n",
    "for doc in tqdm(os.listdir(csvs_folder)):\n",
    "    preprocess_csv(input_file=csvs_folder + doc)"
   ]
  },
  {
   "cell_type": "code",
   "execution_count": null,
   "metadata": {},
   "outputs": [],
   "source": []
  }
 ],
 "metadata": {
  "kernelspec": {
   "display_name": "Python 3 (ipykernel)",
   "language": "python",
   "name": "python3"
  },
  "language_info": {
   "codemirror_mode": {
    "name": "ipython",
    "version": 3
   },
   "file_extension": ".py",
   "mimetype": "text/x-python",
   "name": "python",
   "nbconvert_exporter": "python",
   "pygments_lexer": "ipython3",
   "version": "3.9.13"
  }
 },
 "nbformat": 4,
 "nbformat_minor": 4
}
