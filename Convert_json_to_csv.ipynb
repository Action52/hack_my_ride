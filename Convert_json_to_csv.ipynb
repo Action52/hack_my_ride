{
 "cells": [
  {
   "cell_type": "code",
   "execution_count": 9,
   "metadata": {},
   "outputs": [],
   "source": [
    "import pandas as pd\n",
    "import json\n",
    "import csv"
   ]
  },
  {
   "cell_type": "code",
   "execution_count": 10,
   "metadata": {},
   "outputs": [
    {
     "name": "stdout",
     "output_type": "stream",
     "text": [
      "finish\n"
     ]
    }
   ],
   "source": [
    "csv_line = ['time','lineID','directionID','distancefromPoint','pointID']\n",
    "#csv file for the result\n",
    "c = open(r'/Users/liliiaaliakberova/Desktop/documents/Data Mining/vehiclePosition13.csv', 'w',newline='')\n",
    "\n",
    "# create the csv writer\n",
    "writer = csv.writer(c)\n",
    "\n",
    "# write csv header\n",
    "writer.writerow(csv_line)\n",
    "\n",
    "#Open json file\n",
    "with open(r'/Users/liliiaaliakberova/Desktop/documents/Data Mining/vehiclePosition13.json','r') as f:\n",
    "    json_file = json.loads(f.read())\n",
    "    \n",
    "    #loop through timestamps\n",
    "    i=0\n",
    "    for data in json_file['data']:\n",
    "        time = json_file['data'][i]['time']\n",
    "        #print(time)\n",
    "        \n",
    "        #loop through all responses of a timestamp\n",
    "        m=0\n",
    "        for response in json_file['data'][i]['Responses']:\n",
    "            \n",
    "            #loop through all lines of a response\n",
    "            j = 0\n",
    "            try:\n",
    "                for lines in json_file['data'][i]['Responses'][m]['lines']:\n",
    "                    lineId = json_file['data'][i]['Responses'][m]['lines'][j]['lineId']\n",
    "                    \n",
    "                    #loop throgh all vehicle positions of a line\n",
    "                    k=0 \n",
    "                    for vehicelePosition in json_file['data'][i]['Responses'][m]['lines'][j]['vehiclePositions']:\n",
    "                        directionId = json_file['data'][i]['Responses'][m]['lines'][j]['vehiclePositions'][k]['directionId']\n",
    "                        distanceFromPoint = json_file['data'][i]['Responses'][m]['lines'][j]['vehiclePositions'][k]['distanceFromPoint']\n",
    "                        pointId = json_file['data'][i]['Responses'][m]['lines'][j]['vehiclePositions'][k]['pointId']\n",
    "                        \n",
    "                        #write to csv file\n",
    "                        csv_line = [time,lineId,directionId,distanceFromPoint,pointId]\n",
    "                        writer.writerow(csv_line)\n",
    "\n",
    "                        k = k+1\n",
    "\n",
    "                    j=j+1\n",
    "            #catch null values\n",
    "            except:\n",
    "                #write timestamp with null values to csv\n",
    "                csv_line = [time,'null','null','null','null']\n",
    "                writer.writerow(csv_line)\n",
    "                #print(csv_line)\n",
    "                \n",
    "            \n",
    "            m=m+1\n",
    "        \n",
    "        i = i+1\n",
    "        \n",
    "print(\"finish\")\n",
    "c.close()"
   ]
  },
  {
   "cell_type": "code",
   "execution_count": null,
   "metadata": {},
   "outputs": [],
   "source": []
  }
 ],
 "metadata": {
  "kernelspec": {
   "display_name": "Python 3 (ipykernel)",
   "language": "python",
   "name": "python3"
  },
  "language_info": {
   "codemirror_mode": {
    "name": "ipython",
    "version": 3
   },
   "file_extension": ".py",
   "mimetype": "text/x-python",
   "name": "python",
   "nbconvert_exporter": "python",
   "pygments_lexer": "ipython3",
   "version": "3.11.0"
  }
 },
 "nbformat": 4,
 "nbformat_minor": 4
}
